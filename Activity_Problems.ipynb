{
 "cells": [
  {
   "cell_type": "code",
   "execution_count": 13,
   "metadata": {},
   "outputs": [],
   "source": [
    "import csv\n",
    "import numpy as np\n",
    "import matplotlib.pyplot as plt"
   ]
  },
  {
   "cell_type": "code",
   "execution_count": 14,
   "metadata": {},
   "outputs": [],
   "source": [
    "class Convolution:\n",
    "    #include init? idk\n",
    "    # num_img_in: Number of inputs\n",
    "    # filter_size: Size of kernel, will be square & less than 28\n",
    "    # num_filters: Number of filters to run input against\n",
    "    def __init__(self, num_img_in, filter_size, num_filters, step_size):\n",
    "        self.num_img_in = num_img_in\n",
    "        self.filter_size = filter_size\n",
    "        self.num_filters = num_filters\n",
    "        self.step_size = step_size\n",
    "        \n",
    "    # Given set of filters (features) #odd x #odd, iterate over input and multiply\n",
    "    # img_in: a square NxM #even x #even matrix representing one of the RGB values of the input\n",
    "    # features: filters/features that we compare the input against\n",
    "    # step_size: fixed to 1 (does not have any effect)\n",
    "    # returns a NxM matrix where each value is the result of multiplying\n",
    "    # filter with the input, then dividing by the size of the filter\n",
    "    # pad\n",
    "    # Need to add filters to feature map\n",
    "    def forward_prop_A(self, img_in, features, pad):\n",
    "        N = len(img_in)\n",
    "        M = len(img_in[0])\n",
    "        \n",
    "        # padded img as specified\n",
    "        img_in = self.padding(img_in, N + 2 * pad, M + 2 * pad)\n",
    "\n",
    "        # stride here is 1\n",
    "        # out_N = (N - features_size + 2*pad_N) / stride + 1\n",
    "        # out_M = (M - features_size + 2*pad_M) / stride + 1\n",
    "        stride = 1\n",
    "        # NxM output array (square)\n",
    "        # assume the number is divisible by the stride\n",
    "        out = np.zeros((len(features)\n",
    "                        , (N - len(features[0]) + 2 * pad) // stride + 1\n",
    "                        , (M - len(features[0][0]) + 2 * pad) // stride + 1 ))\n",
    "        \n",
    "        # iterate thru the input and output to corresponding part in out\n",
    "        for f in range(0, self.num_filters):\n",
    "            for i in range(0, len(out[0])):\n",
    "                for j in range (0, len(out[0][0])):\n",
    "                    # Take dot product of the flattened filter and part of input it is covering\n",
    "                    out[f, i, j] = np.dot(np.ndarray.flatten(img_in[i:i+len(features[f]),\n",
    "                                    j:j+len(features[f][0])]), np.ndarray.flatten(features[f]))\n",
    "        return out\n",
    "    \n",
    "    # Add 0s to the border of orig_img as needed to achieve NxM matrix\n",
    "    # assume orig_img is a square matrix with #odd x #odd\n",
    "    def padding(self, orig_img, N, M):\n",
    "        #print(\"print\" ,np.shape(orig_img))\n",
    "        if N - np.shape(orig_img)[0] < 0 or M - np.shape(orig_img)[1] < 0:\n",
    "            raise \"target NxM must be larger or equal to orig_img\"\n",
    "        starting_row = (N - np.shape(orig_img)[0]) // 2\n",
    "        starting_column = (M - np.shape(orig_img)[1]) // 2\n",
    "        pad_arr = np.zeros((N, M))\n",
    "        pad_arr[starting_row:starting_row+np.shape(orig_img)[0], starting_column:starting_column+np.shape(orig_img)[1]] = orig_img\n",
    "        return pad_arr"
   ]
  },
  {
   "cell_type": "markdown",
   "metadata": {},
   "source": [
    "# Main Activity\n",
    "## Question 1"
   ]
  },
  {
   "cell_type": "code",
   "execution_count": 21,
   "metadata": {},
   "outputs": [],
   "source": [
    "data = []\n",
    "with open('./img.csv') as img_file:\n",
    "    csv_read = csv.reader(img_file)\n",
    "    for row in csv_read:\n",
    "        data.append(list(map(int, row)))\n",
    "\n",
    "        \n",
    "# plt.imshow(data, cmap='gray')\n",
    "# plt.show()"
   ]
  },
  {
   "cell_type": "markdown",
   "metadata": {},
   "source": [
    "## Question 2"
   ]
  },
  {
   "cell_type": "code",
   "execution_count": 23,
   "metadata": {},
   "outputs": [
    {
     "data": {
      "image/png": "[encoded data removed]",
      "text/plain": [
       "<Figure size 432x288 with 1 Axes>"
      ]
     },
     "metadata": {
      "needs_background": "light"
     },
     "output_type": "display_data"
    },
    {
     "data": {
      "image/png": "[encoded data removed]",
      "text/plain": [
       "<Figure size 432x288 with 1 Axes>"
      ]
     },
     "metadata": {
      "needs_background": "light"
     },
     "output_type": "display_data"
    },
    {
     "data": {
      "image/png": "[encoded data removed]",
      "text/plain": [
       "<Figure size 432x288 with 1 Axes>"
      ]
     },
     "metadata": {
      "needs_background": "light"
     },
     "output_type": "display_data"
    },
    {
     "name": "stdout",
     "output_type": "stream",
     "text": [
      "Dimension:  (3, 3)\n"
     ]
    }
   ],
   "source": [
    "kernels = []\n",
    "# fun fact, this is Gaussian blur\n",
    "kernel1 = 1/16*np.array([[1,2,1],[2,4,2],[1,2,1]])\n",
    "kernels.append(kernel1)\n",
    "plt.imshow(kernel1, cmap='gray')\n",
    "plt.show()\n",
    "# sharpen\n",
    "kernel2 = np.array([[0,-1,0],[-1,5,-1],[0,-1,0]])\n",
    "kernels.append(kernel2)\n",
    "plt.imshow(kernel2, cmap='gray')\n",
    "plt.show()\n",
    "# edge detection\n",
    "kernel3 = np.array([[-1,-1,-1],[-1,8,-1],[-1,-1,-1]])\n",
    "kernels.append(kernel3)\n",
    "plt.imshow(kernel3, cmap='gray')\n",
    "plt.show()\n",
    "\n",
    "# print(\"Number of features: \", len(kernels))\n",
    "# print(\"Dimension: \", np.shape(kernel1))"
   ]
  },
  {
   "cell_type": "markdown",
   "metadata": {},
   "source": [
    "## Question 3 & 4"
   ]
  },
  {
   "cell_type": "code",
   "execution_count": 25,
   "metadata": {},
   "outputs": [
    {
     "data": {
      "image/png": "[encoded data removed]",
      "text/plain": [
       "<Figure size 432x288 with 1 Axes>"
      ]
     },
     "metadata": {
      "needs_background": "light"
     },
     "output_type": "display_data"
    },
    {
     "data": {
      "image/png": "[encoded data removed]",
      "text/plain": [
       "<Figure size 432x288 with 1 Axes>"
      ]
     },
     "metadata": {
      "needs_background": "light"
     },
     "output_type": "display_data"
    },
    {
     "data": {
      "image/png": "[encoded data removed]",
      "text/plain": [
       "<Figure size 432x288 with 1 Axes>"
      ]
     },
     "metadata": {
      "needs_background": "light"
     },
     "output_type": "display_data"
    }
   ],
   "source": [
    "num_img_in = 1\n",
    "filter_size = len(kernels[0])\n",
    "num_filters = len(kernels)\n",
    "step_size = 1\n",
    "\n",
    "conv = Convolution(num_img_in, filter_size, num_filters, step_size)\n",
    "# here we maintain the size of the feature maps\n",
    "padding = (filter_size - 1) // 2\n",
    "# perform kernel convolution\n",
    "feature_maps = conv.forward_prop_A(data, kernels, padding)\n",
    "# display the results\n",
    "for fm in feature_maps:\n",
    "    plt.imshow(fm, cmap='gray')\n",
    "    plt.show()"
   ]
  },
  {
   "cell_type": "markdown",
   "metadata": {},
   "source": [
    "## Question 5"
   ]
  },
  {
   "cell_type": "code",
   "execution_count": 60,
   "metadata": {},
   "outputs": [
    {
     "data": {
      "image/png": "[encoded data removed]",
      "text/plain": [
       "<Figure size 432x288 with 1 Axes>"
      ]
     },
     "metadata": {
      "needs_background": "light"
     },
     "output_type": "display_data"
    },
    {
     "data": {
      "image/png": "[encoded data removed]",
      "text/plain": [
       "<Figure size 432x288 with 1 Axes>"
      ]
     },
     "metadata": {
      "needs_background": "light"
     },
     "output_type": "display_data"
    },
    {
     "data": {
      "image/png": "[encoded data removed]",
      "text/plain": [
       "<Figure size 432x288 with 1 Axes>"
      ]
     },
     "metadata": {
      "needs_background": "light"
     },
     "output_type": "display_data"
    },
    {
     "data": {
      "image/png": "[encoded data removed]",
      "text/plain": [
       "<Figure size 432x288 with 1 Axes>"
      ]
     },
     "metadata": {
      "needs_background": "light"
     },
     "output_type": "display_data"
    }
   ],
   "source": [
    "new_kernels = []\n",
    "kernel4 = np.array([[0,0,0],[0,1,0],[0,0,0]])\n",
    "new_kernels.append(kernel4)\n",
    "plt.imshow(kernel4, cmap='gray')\n",
    "plt.show()\n",
    "\n",
    "kernel5 = np.zeros((3,3))\n",
    "new_kernels.append(kernel5)\n",
    "plt.imshow(kernel5, cmap='gray')\n",
    "plt.show()\n",
    "\n",
    "num_img_in = 1\n",
    "filter_size = len(new_kernels[0])\n",
    "num_filters = len(new_kernels)\n",
    "step_size = 1\n",
    "\n",
    "new_conv = Convolution(num_img_in, filter_size, num_filters, step_size)\n",
    "# here we maintain the size of the feature maps\n",
    "new_padding = (filter_size - 1) // 2\n",
    "# perform kernel convolution\n",
    "new_feature_maps = new_conv.forward_prop_A(data, new_kernels, new_padding)\n",
    "# display the results\n",
    "for fm in new_feature_maps:\n",
    "    plt.imshow(fm, cmap='gray')\n",
    "    plt.show()"
   ]
  },
  {
   "cell_type": "code",
   "execution_count": 65,
   "metadata": {},
   "outputs": [],
   "source": [
    "class ReLU():\n",
    "    \n",
    "    def __init__(self):\n",
    "        pass\n",
    "        \n",
    "    def forward_prop(self, img_ins):\n",
    "        self.img_ins = img_ins\n",
    "        for k in range(len(img_ins)):\n",
    "            for i in range(0, len(self.img_ins[0])):\n",
    "                for j in range(0, len(self.img_ins[0])):\n",
    "                    if self.img_ins[k, i, j] < 0:\n",
    "                        self.img_ins[k, i, j] = 0.0\n",
    "        return self.img_ins"
   ]
  },
  {
   "cell_type": "markdown",
   "metadata": {},
   "source": [
    "## Question 6"
   ]
  },
  {
   "cell_type": "code",
   "execution_count": 74,
   "metadata": {},
   "outputs": [
    {
     "name": "stdout",
     "output_type": "stream",
     "text": [
      "[]\n"
     ]
    }
   ],
   "source": [
    "relu = ReLU()\n",
    "feature_maps_after = relu.forward_prop(feature_maps)\n",
    "print(np.argwhere((feature_maps - feature_maps_after) != 0))"
   ]
  },
  {
   "cell_type": "markdown",
   "metadata": {},
   "source": [
    "## Question 7"
   ]
  },
  {
   "cell_type": "code",
   "execution_count": 76,
   "metadata": {},
   "outputs": [],
   "source": [
    "class Pooling:\n",
    "    \n",
    "    def __init__(self, pool_dim):\n",
    "        # pooling dimension for this layer\n",
    "        self.pool_dim = pool_dim\n",
    "        \n",
    "    \n",
    "    # Go thru sections of the original matrix and only take the highest value\n",
    "    # Put this into a new PxQ matrix\n",
    "    # Pool dim is a single int representing both size of the 'pool filter' and\n",
    "    # the stride. Ex: 2 -> 2x2 pooling with stride 2\n",
    "    def forward_prop(self, img_in):\n",
    "        # Input known at runtime, not while adding layers\n",
    "        self.img_in = img_in\n",
    "        # output data from pooling\n",
    "        # reduce by a factor of whatever stride is\n",
    "        self.out = np.zeros((len(img_in), len(img_in[0]) // self.pool_dim, len(img_in[0]) // self.pool_dim))\n",
    "        # need to remember which indices provide the local max for back_prop\n",
    "        self.mask = np.zeros((len(img_in), len(img_in[0]), len(img_in[0])))\n",
    "        \n",
    "        pool_dim = self.pool_dim\n",
    "        for k in range(len(img_in)):\n",
    "            # loop thru input matrix\n",
    "            for i in range(0, len(self.out[0])):\n",
    "                for j in range(0, len(self.out[0])):\n",
    "                    # get largest value in pool\n",
    "                    vert = i * pool_dim\n",
    "                    horiz = j * pool_dim\n",
    "                    pool = self.img_in[k, vert:vert+pool_dim, horiz:horiz+pool_dim]\n",
    "                    #print(pool)\n",
    "                    self.out[k, i,j] = np.amax(pool)\n",
    "                    max_idx = np.argmax(pool)\n",
    "                    # flag local max indices\n",
    "                    self.mask[k, vert + max_idx // pool_dim, horiz + max_idx % pool_dim] = 1.0\n",
    "              \n",
    "        return self.out, self.mask\n",
    "    \n",
    "    def padding(self, orig_img, N, M):\n",
    "        starting_row = int((N - np.shape(orig_img)[0]) // 2)\n",
    "        starting_column = int((M - np.shape(orig_img)[1]) // 2)\n",
    "        pad_arr = np.zeros((N, M))\n",
    "        pad_arr[starting_row:starting_row+np.shape(orig_img)[0], starting_column:starting_column+np.shape(orig_img)[1]] = orig_img\n",
    "        return pad_arr"
   ]
  },
  {
   "cell_type": "code",
   "execution_count": 78,
   "metadata": {},
   "outputs": [
    {
     "data": {
      "image/png": "[encoded data removed]",
      "text/plain": [
       "<Figure size 432x288 with 1 Axes>"
      ]
     },
     "metadata": {
      "needs_background": "light"
     },
     "output_type": "display_data"
    },
    {
     "data": {
      "image/png": "[encoded data removed]",
      "text/plain": [
       "<Figure size 432x288 with 1 Axes>"
      ]
     },
     "metadata": {
      "needs_background": "light"
     },
     "output_type": "display_data"
    },
    {
     "data": {
      "image/png": "[encoded data removed]",
      "text/plain": [
       "<Figure size 432x288 with 1 Axes>"
      ]
     },
     "metadata": {
      "needs_background": "light"
     },
     "output_type": "display_data"
    }
   ],
   "source": [
    "pooling_dim = 2\n",
    "pool = Pooling(pooling_dim)\n",
    "\n",
    "pooling_res, pooling_mask = pool.forward_prop(feature_maps_after)\n",
    "for pr in pooling_res:\n",
    "    plt.imshow(pr, cmap='gray')\n",
    "    plt.show()"
   ]
  },
  {
   "cell_type": "markdown",
   "metadata": {},
   "source": [
    "## Question 8"
   ]
  },
  {
   "cell_type": "code",
   "execution_count": 95,
   "metadata": {},
   "outputs": [],
   "source": [
    "class FullyConnected:\n",
    "\n",
    "    def __init__(self, num_inputs, num_outputs, learning_rate):\n",
    "        self.weights = 0.01*np.random.rand(num_inputs, num_outputs)\n",
    "        self.bias = np.zeros((num_outputs, 1))\n",
    "        self.lr = learning_rate\n",
    "\n",
    "    def forward_prop(self, inputs):\n",
    "        self.inputs = inputs\n",
    "        return np.dot(self.inputs, self.weights) + self.bias.T"
   ]
  },
  {
   "cell_type": "code",
   "execution_count": 96,
   "metadata": {},
   "outputs": [
    {
     "name": "stdout",
     "output_type": "stream",
     "text": [
      "(3, 14, 14)\n",
      "(588,)\n",
      "[[368.30365102 364.63224303 352.15504399 381.01460085 361.89387092\n",
      "  373.69536831 338.54699213 341.84204447 333.42111413 347.13485252]]\n"
     ]
    }
   ],
   "source": [
    "# flatten our data to be fed into a fully connected layer\n",
    "print(np.shape(pooling_res))\n",
    "pooling_res_flat = np.ndarray.flatten(pooling_res)\n",
    "print(np.shape(pooling_res_flat))\n",
    "\n",
    "# first fully connected output 256 values\n",
    "fc1 = FullyConnected(len(pooling_res_flat), 256, 0.01)\n",
    "fc1_output = fc1.forward_prop(pooling_res_flat)\n",
    "fc2 = FullyConnected(256, 10, 0.01)\n",
    "fc2_output = fc2.forward_prop(fc1_output)\n",
    "print(fc2_output)"
   ]
  },
  {
   "cell_type": "markdown",
   "metadata": {},
   "source": [
    "## Question 9"
   ]
  },
  {
   "cell_type": "code",
   "execution_count": 97,
   "metadata": {},
   "outputs": [],
   "source": [
    "class Softmax:\n",
    "    def __init__(self):\n",
    "        pass\n",
    "    def forward_prop(self, inputs):\n",
    "        exp = np.exp(inputs, dtype=np.float)\n",
    "        self.out = exp/np.sum(exp)\n",
    "        return self.out"
   ]
  },
  {
   "cell_type": "code",
   "execution_count": 98,
   "metadata": {},
   "outputs": [
    {
     "name": "stdout",
     "output_type": "stream",
     "text": [
      "[[0.    0.    0.    0.999 0.    0.001 0.    0.    0.    0.   ]]\n"
     ]
    }
   ],
   "source": [
    "sm = Softmax()\n",
    "print(np.around(sm.forward_prop(fc2_output),3))"
   ]
  }
 ],
 "metadata": {
  "kernelspec": {
   "display_name": "Python 3",
   "language": "python",
   "name": "python3"
  },
  "language_info": {
   "codemirror_mode": {
    "name": "ipython",
    "version": 3
   },
   "file_extension": ".py",
   "mimetype": "text/x-python",
   "name": "python",
   "nbconvert_exporter": "python",
   "pygments_lexer": "ipython3",
   "version": "3.7.4"
  }
 },
 "nbformat": 4,
 "nbformat_minor": 2
}
